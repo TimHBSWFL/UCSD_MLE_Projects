{
  "nbformat": 4,
  "nbformat_minor": 0,
  "metadata": {
    "colab": {
      "provenance": [],
      "authorship_tag": "ABX9TyOiM4YYO2qy836AkNvL434E",
      "include_colab_link": true
    },
    "kernelspec": {
      "name": "python3",
      "display_name": "Python 3"
    },
    "language_info": {
      "name": "python"
    }
  },
  "cells": [
    {
      "cell_type": "markdown",
      "metadata": {
        "id": "view-in-github",
        "colab_type": "text"
      },
      "source": [
        "<a href=\"https://colab.research.google.com/github/TimHBSWFL/UCSD_MLE_Projects/blob/main/hyperparameter_tuning_business_attributes.ipynb\" target=\"_parent\"><img src=\"https://colab.research.google.com/assets/colab-badge.svg\" alt=\"Open In Colab\"/></a>"
      ]
    },
    {
      "cell_type": "code",
      "source": [
        "!pip install optuna"
      ],
      "metadata": {
        "colab": {
          "base_uri": "https://localhost:8080/"
        },
        "id": "zp0OrbIsiA8Q",
        "outputId": "e159a103-4991-4ea0-fcf4-ccc7b87653df"
      },
      "execution_count": 1,
      "outputs": [
        {
          "output_type": "stream",
          "name": "stdout",
          "text": [
            "Collecting optuna\n",
            "  Downloading optuna-4.1.0-py3-none-any.whl.metadata (16 kB)\n",
            "Collecting alembic>=1.5.0 (from optuna)\n",
            "  Downloading alembic-1.14.0-py3-none-any.whl.metadata (7.4 kB)\n",
            "Collecting colorlog (from optuna)\n",
            "  Downloading colorlog-6.9.0-py3-none-any.whl.metadata (10 kB)\n",
            "Requirement already satisfied: numpy in /usr/local/lib/python3.10/dist-packages (from optuna) (1.26.4)\n",
            "Requirement already satisfied: packaging>=20.0 in /usr/local/lib/python3.10/dist-packages (from optuna) (24.2)\n",
            "Requirement already satisfied: sqlalchemy>=1.4.2 in /usr/local/lib/python3.10/dist-packages (from optuna) (2.0.36)\n",
            "Requirement already satisfied: tqdm in /usr/local/lib/python3.10/dist-packages (from optuna) (4.66.6)\n",
            "Requirement already satisfied: PyYAML in /usr/local/lib/python3.10/dist-packages (from optuna) (6.0.2)\n",
            "Collecting Mako (from alembic>=1.5.0->optuna)\n",
            "  Downloading Mako-1.3.6-py3-none-any.whl.metadata (2.9 kB)\n",
            "Requirement already satisfied: typing-extensions>=4 in /usr/local/lib/python3.10/dist-packages (from alembic>=1.5.0->optuna) (4.12.2)\n",
            "Requirement already satisfied: greenlet!=0.4.17 in /usr/local/lib/python3.10/dist-packages (from sqlalchemy>=1.4.2->optuna) (3.1.1)\n",
            "Requirement already satisfied: MarkupSafe>=0.9.2 in /usr/local/lib/python3.10/dist-packages (from Mako->alembic>=1.5.0->optuna) (3.0.2)\n",
            "Downloading optuna-4.1.0-py3-none-any.whl (364 kB)\n",
            "\u001b[2K   \u001b[90m━━━━━━━━━━━━━━━━━━━━━━━━━━━━━━━━━━━━━━━━\u001b[0m \u001b[32m364.4/364.4 kB\u001b[0m \u001b[31m3.7 MB/s\u001b[0m eta \u001b[36m0:00:00\u001b[0m\n",
            "\u001b[?25hDownloading alembic-1.14.0-py3-none-any.whl (233 kB)\n",
            "\u001b[2K   \u001b[90m━━━━━━━━━━━━━━━━━━━━━━━━━━━━━━━━━━━━━━━━\u001b[0m \u001b[32m233.5/233.5 kB\u001b[0m \u001b[31m10.0 MB/s\u001b[0m eta \u001b[36m0:00:00\u001b[0m\n",
            "\u001b[?25hDownloading colorlog-6.9.0-py3-none-any.whl (11 kB)\n",
            "Downloading Mako-1.3.6-py3-none-any.whl (78 kB)\n",
            "\u001b[2K   \u001b[90m━━━━━━━━━━━━━━━━━━━━━━━━━━━━━━━━━━━━━━━━\u001b[0m \u001b[32m78.6/78.6 kB\u001b[0m \u001b[31m5.0 MB/s\u001b[0m eta \u001b[36m0:00:00\u001b[0m\n",
            "\u001b[?25hInstalling collected packages: Mako, colorlog, alembic, optuna\n",
            "Successfully installed Mako-1.3.6 alembic-1.14.0 colorlog-6.9.0 optuna-4.1.0\n"
          ]
        }
      ]
    },
    {
      "cell_type": "code",
      "source": [
        "!pip install datasets"
      ],
      "metadata": {
        "colab": {
          "base_uri": "https://localhost:8080/"
        },
        "id": "t4OhyK9LiOti",
        "outputId": "5ceb4bd1-5bd5-41b1-b7c0-cf8fd905559e"
      },
      "execution_count": 2,
      "outputs": [
        {
          "output_type": "stream",
          "name": "stdout",
          "text": [
            "Collecting datasets\n",
            "  Downloading datasets-3.1.0-py3-none-any.whl.metadata (20 kB)\n",
            "Requirement already satisfied: filelock in /usr/local/lib/python3.10/dist-packages (from datasets) (3.16.1)\n",
            "Requirement already satisfied: numpy>=1.17 in /usr/local/lib/python3.10/dist-packages (from datasets) (1.26.4)\n",
            "Requirement already satisfied: pyarrow>=15.0.0 in /usr/local/lib/python3.10/dist-packages (from datasets) (17.0.0)\n",
            "Collecting dill<0.3.9,>=0.3.0 (from datasets)\n",
            "  Downloading dill-0.3.8-py3-none-any.whl.metadata (10 kB)\n",
            "Requirement already satisfied: pandas in /usr/local/lib/python3.10/dist-packages (from datasets) (2.2.2)\n",
            "Requirement already satisfied: requests>=2.32.2 in /usr/local/lib/python3.10/dist-packages (from datasets) (2.32.3)\n",
            "Requirement already satisfied: tqdm>=4.66.3 in /usr/local/lib/python3.10/dist-packages (from datasets) (4.66.6)\n",
            "Collecting xxhash (from datasets)\n",
            "  Downloading xxhash-3.5.0-cp310-cp310-manylinux_2_17_x86_64.manylinux2014_x86_64.whl.metadata (12 kB)\n",
            "Collecting multiprocess<0.70.17 (from datasets)\n",
            "  Downloading multiprocess-0.70.16-py310-none-any.whl.metadata (7.2 kB)\n",
            "Collecting fsspec<=2024.9.0,>=2023.1.0 (from fsspec[http]<=2024.9.0,>=2023.1.0->datasets)\n",
            "  Downloading fsspec-2024.9.0-py3-none-any.whl.metadata (11 kB)\n",
            "Requirement already satisfied: aiohttp in /usr/local/lib/python3.10/dist-packages (from datasets) (3.11.1)\n",
            "Requirement already satisfied: huggingface-hub>=0.23.0 in /usr/local/lib/python3.10/dist-packages (from datasets) (0.26.2)\n",
            "Requirement already satisfied: packaging in /usr/local/lib/python3.10/dist-packages (from datasets) (24.2)\n",
            "Requirement already satisfied: pyyaml>=5.1 in /usr/local/lib/python3.10/dist-packages (from datasets) (6.0.2)\n",
            "Requirement already satisfied: aiohappyeyeballs>=2.3.0 in /usr/local/lib/python3.10/dist-packages (from aiohttp->datasets) (2.4.3)\n",
            "Requirement already satisfied: aiosignal>=1.1.2 in /usr/local/lib/python3.10/dist-packages (from aiohttp->datasets) (1.3.1)\n",
            "Requirement already satisfied: attrs>=17.3.0 in /usr/local/lib/python3.10/dist-packages (from aiohttp->datasets) (24.2.0)\n",
            "Requirement already satisfied: frozenlist>=1.1.1 in /usr/local/lib/python3.10/dist-packages (from aiohttp->datasets) (1.5.0)\n",
            "Requirement already satisfied: multidict<7.0,>=4.5 in /usr/local/lib/python3.10/dist-packages (from aiohttp->datasets) (6.1.0)\n",
            "Requirement already satisfied: propcache>=0.2.0 in /usr/local/lib/python3.10/dist-packages (from aiohttp->datasets) (0.2.0)\n",
            "Requirement already satisfied: yarl<2.0,>=1.17.0 in /usr/local/lib/python3.10/dist-packages (from aiohttp->datasets) (1.17.1)\n",
            "Requirement already satisfied: async-timeout<6.0,>=4.0 in /usr/local/lib/python3.10/dist-packages (from aiohttp->datasets) (4.0.3)\n",
            "Requirement already satisfied: typing-extensions>=3.7.4.3 in /usr/local/lib/python3.10/dist-packages (from huggingface-hub>=0.23.0->datasets) (4.12.2)\n",
            "Requirement already satisfied: charset-normalizer<4,>=2 in /usr/local/lib/python3.10/dist-packages (from requests>=2.32.2->datasets) (3.4.0)\n",
            "Requirement already satisfied: idna<4,>=2.5 in /usr/local/lib/python3.10/dist-packages (from requests>=2.32.2->datasets) (3.10)\n",
            "Requirement already satisfied: urllib3<3,>=1.21.1 in /usr/local/lib/python3.10/dist-packages (from requests>=2.32.2->datasets) (2.2.3)\n",
            "Requirement already satisfied: certifi>=2017.4.17 in /usr/local/lib/python3.10/dist-packages (from requests>=2.32.2->datasets) (2024.8.30)\n",
            "Requirement already satisfied: python-dateutil>=2.8.2 in /usr/local/lib/python3.10/dist-packages (from pandas->datasets) (2.8.2)\n",
            "Requirement already satisfied: pytz>=2020.1 in /usr/local/lib/python3.10/dist-packages (from pandas->datasets) (2024.2)\n",
            "Requirement already satisfied: tzdata>=2022.7 in /usr/local/lib/python3.10/dist-packages (from pandas->datasets) (2024.2)\n",
            "Requirement already satisfied: six>=1.5 in /usr/local/lib/python3.10/dist-packages (from python-dateutil>=2.8.2->pandas->datasets) (1.16.0)\n",
            "Downloading datasets-3.1.0-py3-none-any.whl (480 kB)\n",
            "\u001b[2K   \u001b[90m━━━━━━━━━━━━━━━━━━━━━━━━━━━━━━━━━━━━━━━━\u001b[0m \u001b[32m480.6/480.6 kB\u001b[0m \u001b[31m6.3 MB/s\u001b[0m eta \u001b[36m0:00:00\u001b[0m\n",
            "\u001b[?25hDownloading dill-0.3.8-py3-none-any.whl (116 kB)\n",
            "\u001b[2K   \u001b[90m━━━━━━━━━━━━━━━━━━━━━━━━━━━━━━━━━━━━━━━━\u001b[0m \u001b[32m116.3/116.3 kB\u001b[0m \u001b[31m4.9 MB/s\u001b[0m eta \u001b[36m0:00:00\u001b[0m\n",
            "\u001b[?25hDownloading fsspec-2024.9.0-py3-none-any.whl (179 kB)\n",
            "\u001b[2K   \u001b[90m━━━━━━━━━━━━━━━━━━━━━━━━━━━━━━━━━━━━━━━━\u001b[0m \u001b[32m179.3/179.3 kB\u001b[0m \u001b[31m11.7 MB/s\u001b[0m eta \u001b[36m0:00:00\u001b[0m\n",
            "\u001b[?25hDownloading multiprocess-0.70.16-py310-none-any.whl (134 kB)\n",
            "\u001b[2K   \u001b[90m━━━━━━━━━━━━━━━━━━━━━━━━━━━━━━━━━━━━━━━━\u001b[0m \u001b[32m134.8/134.8 kB\u001b[0m \u001b[31m8.2 MB/s\u001b[0m eta \u001b[36m0:00:00\u001b[0m\n",
            "\u001b[?25hDownloading xxhash-3.5.0-cp310-cp310-manylinux_2_17_x86_64.manylinux2014_x86_64.whl (194 kB)\n",
            "\u001b[2K   \u001b[90m━━━━━━━━━━━━━━━━━━━━━━━━━━━━━━━━━━━━━━━━\u001b[0m \u001b[32m194.1/194.1 kB\u001b[0m \u001b[31m5.5 MB/s\u001b[0m eta \u001b[36m0:00:00\u001b[0m\n",
            "\u001b[?25hInstalling collected packages: xxhash, fsspec, dill, multiprocess, datasets\n",
            "  Attempting uninstall: fsspec\n",
            "    Found existing installation: fsspec 2024.10.0\n",
            "    Uninstalling fsspec-2024.10.0:\n",
            "      Successfully uninstalled fsspec-2024.10.0\n",
            "\u001b[31mERROR: pip's dependency resolver does not currently take into account all the packages that are installed. This behaviour is the source of the following dependency conflicts.\n",
            "gcsfs 2024.10.0 requires fsspec==2024.10.0, but you have fsspec 2024.9.0 which is incompatible.\u001b[0m\u001b[31m\n",
            "\u001b[0mSuccessfully installed datasets-3.1.0 dill-0.3.8 fsspec-2024.9.0 multiprocess-0.70.16 xxhash-3.5.0\n"
          ]
        }
      ]
    },
    {
      "cell_type": "code",
      "execution_count": 3,
      "metadata": {
        "id": "bd1yy_wcGJUU"
      },
      "outputs": [],
      "source": [
        "import optuna\n",
        "import pandas as pd\n",
        "import numpy as np\n",
        "from sklearn.model_selection import train_test_split\n",
        "from sklearn.preprocessing import StandardScaler\n",
        "from xgboost import XGBClassifier\n",
        "from sklearn.metrics import accuracy_score, classification_report, mean_squared_error, r2_score\n",
        "from xgboost import XGBRegressor\n",
        "import xgboost as xgb"
      ]
    },
    {
      "cell_type": "code",
      "source": [
        "from google.colab import drive\n",
        "drive.mount('/content/drive')"
      ],
      "metadata": {
        "colab": {
          "base_uri": "https://localhost:8080/"
        },
        "id": "Z-8qbWkLG-OK",
        "outputId": "1b033e71-185f-4923-bbbb-491a2f98253a"
      },
      "execution_count": 4,
      "outputs": [
        {
          "output_type": "stream",
          "name": "stdout",
          "text": [
            "Mounted at /content/drive\n"
          ]
        }
      ]
    },
    {
      "cell_type": "code",
      "source": [
        "filename = \"FL_Restaurants_Business Attributes_Edited\" + \".csv\"\n",
        "directory = '/content/drive/My Drive/Capstone Data Collection/'\n",
        "\n",
        "path = directory + filename\n",
        "\n",
        "chunk_iterator = pd.read_csv(path, chunksize=10000)\n",
        "\n",
        "chunks = []\n",
        "\n",
        "for chunk in chunk_iterator:\n",
        "  chunks.append(chunk)\n",
        "\n",
        "df = pd.concat(chunks, ignore_index=True)\n",
        "df.shape"
      ],
      "metadata": {
        "colab": {
          "base_uri": "https://localhost:8080/"
        },
        "id": "LtxnGACHG-M0",
        "outputId": "27f5c4f9-e38d-4ed8-c8d8-c364805c576f"
      },
      "execution_count": 6,
      "outputs": [
        {
          "output_type": "execute_result",
          "data": {
            "text/plain": [
              "(8723, 166)"
            ]
          },
          "metadata": {},
          "execution_count": 6
        }
      ]
    },
    {
      "cell_type": "code",
      "source": [
        "df2 = df.copy()"
      ],
      "metadata": {
        "id": "L13EtQA0jnt1"
      },
      "execution_count": 7,
      "outputs": []
    },
    {
      "cell_type": "markdown",
      "source": [
        "XGBoost Regressor Hyperparameter Tuning"
      ],
      "metadata": {
        "id": "F4N-fw9Yoynd"
      }
    },
    {
      "cell_type": "code",
      "source": [
        "X = df.drop(columns=['stars'])\n",
        "y = df['stars']\n",
        "\n",
        "X_train, X_test, y_train, y_test = train_test_split(X, y, test_size=0.2, random_state=42)\n",
        "\n",
        "\n",
        "scaler = StandardScaler()\n",
        "\n",
        "X_train_scaled = scaler.fit_transform(X_train)\n",
        "X_test_scaled = scaler.transform(X_test)\n",
        "\n",
        "def objective(trial):\n",
        "    params = {\n",
        "      \"n_estimators\": trial.suggest_int(\"n_estimators\", 50, 500),\n",
        "      \"max_depth\": trial.suggest_int(\"max_depth\", 3, 15),\n",
        "      \"learning_rate\": trial.suggest_float(\"learning_rate\", 0.01, 0.3, log=True),\n",
        "      \"subsample\": trial.suggest_float(\"subsample\", 0.6, 1.0),\n",
        "      \"colsample_bytree\": trial.suggest_float(\"colsample_bytree\", 0.6, 1.0),\n",
        "      \"random_state\": 42,\n",
        "      \"objective\": \"reg:squarederror\"\n",
        "  }\n",
        "\n",
        "    model = XGBRegressor(**params)\n",
        "    model.fit(X_train_scaled, y_train)\n",
        "\n",
        "    y_pred = model.predict(X_test_scaled)\n",
        "    y_pred_rounded = np.round(y_pred * 2) / 2\n",
        "\n",
        "    mse = mean_squared_error(y_test, y_pred_rounded)\n",
        "    return mse\n",
        "\n",
        "\n",
        "study = optuna.create_study(direction=\"minimize\")\n",
        "study.optimize(objective, n_trials=50)\n",
        "\n",
        "print(\"Best Parameters:\", study.best_params)\n",
        "print(\"Best MSE:\", study.best_value)\n"
      ],
      "metadata": {
        "colab": {
          "base_uri": "https://localhost:8080/"
        },
        "id": "K1nbRqq2nVV9",
        "outputId": "c4317bb3-63ec-4df6-85a2-86bf4682e9a1"
      },
      "execution_count": 10,
      "outputs": [
        {
          "output_type": "stream",
          "name": "stderr",
          "text": [
            "[I 2024-11-19 04:12:19,943] A new study created in memory with name: no-name-c163d3dd-23d9-40f9-87c6-e15521640425\n",
            "[I 2024-11-19 04:12:20,690] Trial 0 finished with value: 0.01332378223495702 and parameters: {'n_estimators': 296, 'max_depth': 3, 'learning_rate': 0.02268695840736255, 'subsample': 0.7440569186355832, 'colsample_bytree': 0.6374303685704245}. Best is trial 0 with value: 0.01332378223495702.\n",
            "[I 2024-11-19 04:12:24,195] Trial 1 finished with value: 0.013610315186246419 and parameters: {'n_estimators': 335, 'max_depth': 11, 'learning_rate': 0.03663940014520137, 'subsample': 0.8792377861498855, 'colsample_bytree': 0.8714437638671195}. Best is trial 0 with value: 0.01332378223495702.\n",
            "[I 2024-11-19 04:12:28,335] Trial 2 finished with value: 0.017765042979942695 and parameters: {'n_estimators': 378, 'max_depth': 15, 'learning_rate': 0.12232236431529196, 'subsample': 0.830944498995797, 'colsample_bytree': 0.6760802378139833}. Best is trial 0 with value: 0.01332378223495702.\n",
            "[I 2024-11-19 04:12:33,357] Trial 3 finished with value: 0.014469914040114613 and parameters: {'n_estimators': 468, 'max_depth': 7, 'learning_rate': 0.16539498380104323, 'subsample': 0.7168944753133006, 'colsample_bytree': 0.8076134444192629}. Best is trial 0 with value: 0.01332378223495702.\n",
            "[I 2024-11-19 04:12:37,913] Trial 4 finished with value: 0.01518624641833811 and parameters: {'n_estimators': 430, 'max_depth': 14, 'learning_rate': 0.10981736973474188, 'subsample': 0.6870410524789502, 'colsample_bytree': 0.6835470599610154}. Best is trial 0 with value: 0.01332378223495702.\n",
            "[I 2024-11-19 04:12:40,674] Trial 5 finished with value: 0.013180515759312322 and parameters: {'n_estimators': 337, 'max_depth': 10, 'learning_rate': 0.037624503328456224, 'subsample': 0.9845857815428187, 'colsample_bytree': 0.8998734158960805}. Best is trial 5 with value: 0.013180515759312322.\n",
            "[I 2024-11-19 04:12:41,004] Trial 6 finished with value: 0.012464183381088826 and parameters: {'n_estimators': 113, 'max_depth': 3, 'learning_rate': 0.29171471809669225, 'subsample': 0.9100630196554713, 'colsample_bytree': 0.6988060866479656}. Best is trial 6 with value: 0.012464183381088826.\n",
            "[I 2024-11-19 04:12:46,672] Trial 7 finished with value: 0.013037249283667621 and parameters: {'n_estimators': 495, 'max_depth': 7, 'learning_rate': 0.020226264462693554, 'subsample': 0.7675753509134278, 'colsample_bytree': 0.7751213728562261}. Best is trial 6 with value: 0.012464183381088826.\n",
            "[I 2024-11-19 04:12:48,294] Trial 8 finished with value: 0.01489971346704871 and parameters: {'n_estimators': 207, 'max_depth': 12, 'learning_rate': 0.29353036095952695, 'subsample': 0.8801989603693241, 'colsample_bytree': 0.7157604690829491}. Best is trial 6 with value: 0.012464183381088826.\n",
            "[I 2024-11-19 04:12:51,756] Trial 9 finished with value: 0.013467048710601719 and parameters: {'n_estimators': 420, 'max_depth': 10, 'learning_rate': 0.062051427880826626, 'subsample': 0.7387438860805078, 'colsample_bytree': 0.6706149297535187}. Best is trial 6 with value: 0.012464183381088826.\n",
            "[I 2024-11-19 04:12:52,019] Trial 10 finished with value: 0.29326647564469915 and parameters: {'n_estimators': 50, 'max_depth': 3, 'learning_rate': 0.01022501585274813, 'subsample': 0.6016492853382683, 'colsample_bytree': 0.9863109312220669}. Best is trial 6 with value: 0.012464183381088826.\n",
            "[I 2024-11-19 04:12:52,889] Trial 11 finished with value: 0.018767908309455586 and parameters: {'n_estimators': 181, 'max_depth': 6, 'learning_rate': 0.01372182650445177, 'subsample': 0.9614338229792151, 'colsample_bytree': 0.7709540634371315}. Best is trial 6 with value: 0.012464183381088826.\n",
            "[I 2024-11-19 04:12:53,275] Trial 12 finished with value: 0.09598853868194843 and parameters: {'n_estimators': 70, 'max_depth': 6, 'learning_rate': 0.020005813776098436, 'subsample': 0.804546208040646, 'colsample_bytree': 0.766687800795693}. Best is trial 6 with value: 0.012464183381088826.\n",
            "[I 2024-11-19 04:12:54,218] Trial 13 finished with value: 0.013180515759312322 and parameters: {'n_estimators': 147, 'max_depth': 8, 'learning_rate': 0.05814391199869799, 'subsample': 0.9111823166992873, 'colsample_bytree': 0.6109548790462841}. Best is trial 6 with value: 0.012464183381088826.\n",
            "[I 2024-11-19 04:12:55,023] Trial 14 finished with value: 0.012750716332378223 and parameters: {'n_estimators': 246, 'max_depth': 5, 'learning_rate': 0.24528918763608173, 'subsample': 0.8266488226189441, 'colsample_bytree': 0.8272844432046705}. Best is trial 6 with value: 0.012464183381088826.\n",
            "[I 2024-11-19 04:12:55,642] Trial 15 finished with value: 0.012607449856733524 and parameters: {'n_estimators': 233, 'max_depth': 4, 'learning_rate': 0.2968526383364735, 'subsample': 0.9255327379957344, 'colsample_bytree': 0.8567907118304222}. Best is trial 6 with value: 0.012464183381088826.\n",
            "[I 2024-11-19 04:12:56,065] Trial 16 finished with value: 0.012320916905444125 and parameters: {'n_estimators': 113, 'max_depth': 4, 'learning_rate': 0.1820135012615268, 'subsample': 0.9316981292611736, 'colsample_bytree': 0.9354123702216017}. Best is trial 16 with value: 0.012320916905444125.\n",
            "[I 2024-11-19 04:12:57,083] Trial 17 finished with value: 0.012893982808022923 and parameters: {'n_estimators': 96, 'max_depth': 4, 'learning_rate': 0.16189493233833013, 'subsample': 0.9953497834412697, 'colsample_bytree': 0.9974949629067277}. Best is trial 16 with value: 0.012320916905444125.\n",
            "[I 2024-11-19 04:12:59,052] Trial 18 finished with value: 0.012750716332378223 and parameters: {'n_estimators': 113, 'max_depth': 5, 'learning_rate': 0.09088017705326973, 'subsample': 0.9350802512112408, 'colsample_bytree': 0.936450189802199}. Best is trial 16 with value: 0.012320916905444125.\n",
            "[I 2024-11-19 04:13:00,477] Trial 19 finished with value: 0.012464183381088826 and parameters: {'n_estimators': 152, 'max_depth': 3, 'learning_rate': 0.19153572118934434, 'subsample': 0.8647133139253257, 'colsample_bytree': 0.725035193085478}. Best is trial 16 with value: 0.012320916905444125.\n",
            "[I 2024-11-19 04:13:01,469] Trial 20 finished with value: 0.013467048710601719 and parameters: {'n_estimators': 127, 'max_depth': 9, 'learning_rate': 0.0802005738994282, 'subsample': 0.9022897217320853, 'colsample_bytree': 0.9398881789392388}. Best is trial 16 with value: 0.012320916905444125.\n",
            "[I 2024-11-19 04:13:01,911] Trial 21 finished with value: 0.012464183381088826 and parameters: {'n_estimators': 166, 'max_depth': 3, 'learning_rate': 0.19300168215170194, 'subsample': 0.8797668356581985, 'colsample_bytree': 0.7169059000910467}. Best is trial 16 with value: 0.012320916905444125.\n",
            "[I 2024-11-19 04:13:02,300] Trial 22 finished with value: 0.012034383954154728 and parameters: {'n_estimators': 95, 'max_depth': 4, 'learning_rate': 0.2110467653562664, 'subsample': 0.8482197585993168, 'colsample_bytree': 0.7215067461439995}. Best is trial 22 with value: 0.012034383954154728.\n",
            "[I 2024-11-19 04:13:02,698] Trial 23 finished with value: 0.012177650429799427 and parameters: {'n_estimators': 93, 'max_depth': 5, 'learning_rate': 0.1320588812849169, 'subsample': 0.951128330360448, 'colsample_bytree': 0.7225215618822984}. Best is trial 22 with value: 0.012034383954154728.\n",
            "[I 2024-11-19 04:13:03,063] Trial 24 finished with value: 0.012320916905444125 and parameters: {'n_estimators': 81, 'max_depth': 5, 'learning_rate': 0.13095132856326064, 'subsample': 0.9575374198638231, 'colsample_bytree': 0.7512571727469947}. Best is trial 22 with value: 0.012034383954154728.\n",
            "[I 2024-11-19 04:13:04,339] Trial 25 finished with value: 0.013753581661891117 and parameters: {'n_estimators': 192, 'max_depth': 6, 'learning_rate': 0.21525415464766842, 'subsample': 0.9517781087448896, 'colsample_bytree': 0.8211352263790249}. Best is trial 22 with value: 0.012034383954154728.\n",
            "[I 2024-11-19 04:13:04,609] Trial 26 finished with value: 0.012320916905444125 and parameters: {'n_estimators': 54, 'max_depth': 4, 'learning_rate': 0.14737208285543468, 'subsample': 0.8405827337539812, 'colsample_bytree': 0.7453229296919227}. Best is trial 22 with value: 0.012034383954154728.\n",
            "[I 2024-11-19 04:13:05,373] Trial 27 finished with value: 0.013180515759312322 and parameters: {'n_estimators': 135, 'max_depth': 7, 'learning_rate': 0.08486215503373569, 'subsample': 0.8553179882160292, 'colsample_bytree': 0.6420126942578124}. Best is trial 22 with value: 0.012034383954154728.\n",
            "[I 2024-11-19 04:13:05,767] Trial 28 finished with value: 0.012320916905444125 and parameters: {'n_estimators': 88, 'max_depth': 5, 'learning_rate': 0.11365693178851972, 'subsample': 0.7921729213954442, 'colsample_bytree': 0.8510472498891569}. Best is trial 22 with value: 0.012034383954154728.\n",
            "[I 2024-11-19 04:13:07,256] Trial 29 finished with value: 0.013610315186246419 and parameters: {'n_estimators': 247, 'max_depth': 8, 'learning_rate': 0.04172135254899196, 'subsample': 0.9658175287656526, 'colsample_bytree': 0.645754886078781}. Best is trial 22 with value: 0.012034383954154728.\n",
            "[I 2024-11-19 04:13:08,063] Trial 30 finished with value: 0.012320916905444125 and parameters: {'n_estimators': 309, 'max_depth': 4, 'learning_rate': 0.22747283883890654, 'subsample': 0.9372713025049948, 'colsample_bytree': 0.792581830966465}. Best is trial 22 with value: 0.012034383954154728.\n",
            "[I 2024-11-19 04:13:08,467] Trial 31 finished with value: 0.012177650429799427 and parameters: {'n_estimators': 82, 'max_depth': 5, 'learning_rate': 0.13536077885323722, 'subsample': 0.97756456103956, 'colsample_bytree': 0.7494496685285988}. Best is trial 22 with value: 0.012034383954154728.\n",
            "[I 2024-11-19 04:13:08,947] Trial 32 finished with value: 0.012320916905444125 and parameters: {'n_estimators': 104, 'max_depth': 6, 'learning_rate': 0.16431625087899657, 'subsample': 0.9935886962245337, 'colsample_bytree': 0.7418563817684285}. Best is trial 22 with value: 0.012034383954154728.\n",
            "[I 2024-11-19 04:13:09,316] Trial 33 finished with value: 0.012750716332378223 and parameters: {'n_estimators': 84, 'max_depth': 4, 'learning_rate': 0.10131568444019207, 'subsample': 0.8999769179574146, 'colsample_bytree': 0.8904684094360918}. Best is trial 22 with value: 0.012034383954154728.\n",
            "[I 2024-11-19 04:13:09,859] Trial 34 finished with value: 0.012464183381088826 and parameters: {'n_estimators': 133, 'max_depth': 5, 'learning_rate': 0.06931163628700653, 'subsample': 0.9724602417315554, 'colsample_bytree': 0.7893505417946312}. Best is trial 22 with value: 0.012034383954154728.\n",
            "[I 2024-11-19 04:13:12,914] Trial 35 finished with value: 0.012893982808022923 and parameters: {'n_estimators': 218, 'max_depth': 8, 'learning_rate': 0.04865731955789912, 'subsample': 0.6663002177766093, 'colsample_bytree': 0.6734550434587947}. Best is trial 22 with value: 0.012034383954154728.\n",
            "[I 2024-11-19 04:13:17,187] Trial 36 finished with value: 0.017335243553008597 and parameters: {'n_estimators': 274, 'max_depth': 12, 'learning_rate': 0.14339062155350413, 'subsample': 0.9353710095166944, 'colsample_bytree': 0.6948147586532918}. Best is trial 22 with value: 0.012034383954154728.\n",
            "[I 2024-11-19 04:13:18,013] Trial 37 finished with value: 0.012750716332378223 and parameters: {'n_estimators': 178, 'max_depth': 7, 'learning_rate': 0.1902228609870527, 'subsample': 0.978707997282857, 'colsample_bytree': 0.7341129011972132}. Best is trial 22 with value: 0.012034383954154728.\n",
            "[I 2024-11-19 04:13:18,303] Trial 38 finished with value: 0.012464183381088826 and parameters: {'n_estimators': 69, 'max_depth': 3, 'learning_rate': 0.12289642633787151, 'subsample': 0.8149092607432669, 'colsample_bytree': 0.8112905042479682}. Best is trial 22 with value: 0.012034383954154728.\n",
            "[I 2024-11-19 04:13:18,690] Trial 39 finished with value: 0.013180515759312322 and parameters: {'n_estimators': 113, 'max_depth': 4, 'learning_rate': 0.25735844502958233, 'subsample': 0.8939061892187219, 'colsample_bytree': 0.7082048720907926}. Best is trial 22 with value: 0.012034383954154728.\n",
            "[I 2024-11-19 04:13:19,429] Trial 40 finished with value: 0.013896848137535816 and parameters: {'n_estimators': 161, 'max_depth': 6, 'learning_rate': 0.10258450074906691, 'subsample': 0.7717573142288914, 'colsample_bytree': 0.9415945804007728}. Best is trial 22 with value: 0.012034383954154728.\n",
            "[I 2024-11-19 04:13:19,818] Trial 41 finished with value: 0.012177650429799427 and parameters: {'n_estimators': 78, 'max_depth': 5, 'learning_rate': 0.13496457653074898, 'subsample': 0.9505076433258804, 'colsample_bytree': 0.7518079366949251}. Best is trial 22 with value: 0.012034383954154728.\n",
            "[I 2024-11-19 04:13:20,146] Trial 42 finished with value: 0.012750716332378223 and parameters: {'n_estimators': 55, 'max_depth': 5, 'learning_rate': 0.18206033901840887, 'subsample': 0.9182066175399146, 'colsample_bytree': 0.756975253112397}. Best is trial 22 with value: 0.012034383954154728.\n",
            "[I 2024-11-19 04:13:22,498] Trial 43 finished with value: 0.01848137535816619 and parameters: {'n_estimators': 117, 'max_depth': 14, 'learning_rate': 0.14074683610035463, 'subsample': 0.9538405794967516, 'colsample_bytree': 0.6842670528204695}. Best is trial 22 with value: 0.012034383954154728.\n",
            "[I 2024-11-19 04:13:23,599] Trial 44 finished with value: 0.012893982808022923 and parameters: {'n_estimators': 368, 'max_depth': 4, 'learning_rate': 0.027031219399487275, 'subsample': 0.9437039054813559, 'colsample_bytree': 0.7876160522038343}. Best is trial 22 with value: 0.012034383954154728.\n",
            "[I 2024-11-19 04:13:23,897] Trial 45 finished with value: 0.013037249283667621 and parameters: {'n_estimators': 76, 'max_depth': 3, 'learning_rate': 0.07424377232471502, 'subsample': 0.9782508747835679, 'colsample_bytree': 0.7278745288502416}. Best is trial 22 with value: 0.012034383954154728.\n",
            "[I 2024-11-19 04:13:24,386] Trial 46 finished with value: 0.013180515759312322 and parameters: {'n_estimators': 98, 'max_depth': 6, 'learning_rate': 0.21338652466820682, 'subsample': 0.8562053651128806, 'colsample_bytree': 0.6624394058362529}. Best is trial 22 with value: 0.012034383954154728.\n",
            "[I 2024-11-19 04:13:25,006] Trial 47 finished with value: 0.012320916905444125 and parameters: {'n_estimators': 140, 'max_depth': 5, 'learning_rate': 0.12382457654489777, 'subsample': 0.9227535151965881, 'colsample_bytree': 0.6999192572028211}. Best is trial 22 with value: 0.012034383954154728.\n",
            "[I 2024-11-19 04:13:26,359] Trial 48 finished with value: 0.013180515759312322 and parameters: {'n_estimators': 50, 'max_depth': 7, 'learning_rate': 0.09677778521933426, 'subsample': 0.9938028561030815, 'colsample_bytree': 0.770954614818857}. Best is trial 22 with value: 0.012034383954154728.\n",
            "[I 2024-11-19 04:13:28,010] Trial 49 finished with value: 0.012750716332378223 and parameters: {'n_estimators': 95, 'max_depth': 4, 'learning_rate': 0.16368062147438914, 'subsample': 0.8874584490238835, 'colsample_bytree': 0.6201577196883585}. Best is trial 22 with value: 0.012034383954154728.\n"
          ]
        },
        {
          "output_type": "stream",
          "name": "stdout",
          "text": [
            "Best Parameters: {'n_estimators': 95, 'max_depth': 4, 'learning_rate': 0.2110467653562664, 'subsample': 0.8482197585993168, 'colsample_bytree': 0.7215067461439995}\n",
            "Best MSE: 0.012034383954154728\n"
          ]
        }
      ]
    },
    {
      "cell_type": "code",
      "source": [
        "\n",
        "best_params = study.best_params\n",
        "\n",
        "print(\"Best Parameters from Optuna:\", best_params)\n",
        "\n",
        "\n",
        "X = df.drop(columns=['stars'])\n",
        "y = df['stars']\n",
        "\n",
        "X_train, X_test, y_train, y_test = train_test_split(X, y, test_size=0.2, random_state=42)\n",
        "\n",
        "scaler = StandardScaler()\n",
        "X_train_scaled = scaler.fit_transform(X_train)\n",
        "X_test_scaled = scaler.transform(X_test)\n",
        "\n",
        "\n",
        "model = XGBRegressor(\n",
        "    objective='reg:squarederror',\n",
        "    **best_params\n",
        ")\n",
        "\n",
        "model.fit(X_train_scaled, y_train)\n",
        "\n",
        "y_pred = model.predict(X_test_scaled)\n",
        "\n",
        "y_pred_rounded = np.round(y_pred * 2) / 2\n",
        "\n",
        "mse = mean_squared_error(y_test, y_pred_rounded)\n",
        "r2 = r2_score(y_test, y_pred_rounded)\n",
        "\n",
        "print(\"Original Predictions:\", y_pred)\n",
        "print(\"Rounded Predictions:\", y_pred_rounded)\n",
        "print(f\"Mean Squared Error: {mse}\")\n",
        "print(f\"R^2 Score: {r2}\")\n",
        "\n",
        "accuracy = np.mean(y_pred_rounded == y_test.values)\n",
        "print(f\"Accuracy: {accuracy * 100:.2f}%\")\n"
      ],
      "metadata": {
        "colab": {
          "base_uri": "https://localhost:8080/"
        },
        "id": "AJvsC1EPnUND",
        "outputId": "1454e015-2179-47a2-a794-e540cba10002"
      },
      "execution_count": 11,
      "outputs": [
        {
          "output_type": "stream",
          "name": "stdout",
          "text": [
            "Best Parameters from Optuna: {'n_estimators': 95, 'max_depth': 4, 'learning_rate': 0.2110467653562664, 'subsample': 0.8482197585993168, 'colsample_bytree': 0.7215067461439995}\n",
            "Original Predictions: [2.0005066 4.76088   4.496566  ... 2.5339258 4.03099   4.4266686]\n",
            "Rounded Predictions: [2.  5.  4.5 ... 2.5 4.  4.5]\n",
            "Mean Squared Error: 0.012464183381088826\n",
            "R^2 Score: 0.9823430770998614\n",
            "Accuracy: 95.01%\n"
          ]
        }
      ]
    },
    {
      "cell_type": "markdown",
      "source": [
        "XGBoost Classifier Hyperparameter Tuning"
      ],
      "metadata": {
        "id": "b-C7mHElo8qG"
      }
    },
    {
      "cell_type": "code",
      "source": [
        "rating_mapping = {1: 0, 1.5: 1, 2: 2, 2.5: 3, 3: 4, 3.5: 5, 4: 6, 4.5: 7, 5: 8}\n",
        "df2['rating_class'] = df2['stars'].map(rating_mapping)\n",
        "\n",
        "X = df2.drop(columns=['stars', 'rating_class'])\n",
        "y = df2['rating_class']\n",
        "\n",
        "X_train, X_test, y_train, y_test = train_test_split(X, y, test_size=0.2, random_state=42)\n",
        "\n",
        "\n",
        "scaler = StandardScaler()\n",
        "\n",
        "X_train_scaled = scaler.fit_transform(X_train)\n",
        "X_test_scaled = scaler.transform(X_test)"
      ],
      "metadata": {
        "id": "dfVqr2MSVOo1"
      },
      "execution_count": 12,
      "outputs": []
    },
    {
      "cell_type": "code",
      "source": [
        "def objective(trial):\n",
        "    params = {\n",
        "        \"objective\": \"multi:softmax\",\n",
        "        \"num_class\": 9,\n",
        "        \"max_depth\": trial.suggest_int(\"max_depth\", 3, 15),\n",
        "        \"learning_rate\": trial.suggest_float(\"learning_rate\", 0.01, 0.3, log=True),\n",
        "        \"n_estimators\": trial.suggest_int(\"n_estimators\", 50, 500),\n",
        "        \"subsample\": trial.suggest_float(\"subsample\", 0.6, 1.0),\n",
        "        \"colsample_bytree\": trial.suggest_float(\"colsample_bytree\", 0.6, 1.0),\n",
        "        \"eval_metric\": \"mlogloss\",\n",
        "    }\n",
        "\n",
        "\n",
        "    model = XGBClassifier(**params)\n",
        "\n",
        "    model.fit(X_train_scaled, y_train)\n",
        "\n",
        "    y_pred = model.predict(X_test_scaled)\n",
        "\n",
        "\n",
        "    accuracy = accuracy_score(y_test, y_pred)\n",
        "\n",
        "    return accuracy\n",
        "\n",
        "\n",
        "study = optuna.create_study(direction=\"maximize\")\n",
        "study.optimize(objective, n_trials=50)\n",
        "\n",
        "\n",
        "best_params = study.best_params\n",
        "print(\"Best Parameters from Optuna:\", best_params)\n"
      ],
      "metadata": {
        "colab": {
          "base_uri": "https://localhost:8080/"
        },
        "id": "G-3uZOAhXDBP",
        "outputId": "530e1159-bef6-42a1-a20d-5700107fa544"
      },
      "execution_count": 13,
      "outputs": [
        {
          "output_type": "stream",
          "name": "stderr",
          "text": [
            "[I 2024-11-19 04:20:19,236] A new study created in memory with name: no-name-b3127d7e-128f-409e-9694-6b270bc3234d\n",
            "[I 2024-11-19 04:20:29,671] Trial 0 finished with value: 0.9449856733524356 and parameters: {'max_depth': 7, 'learning_rate': 0.041206101039237664, 'n_estimators': 287, 'subsample': 0.8067435477572664, 'colsample_bytree': 0.9961600876081583}. Best is trial 0 with value: 0.9449856733524356.\n",
            "[I 2024-11-19 04:20:32,286] Trial 1 finished with value: 0.9467048710601719 and parameters: {'max_depth': 5, 'learning_rate': 0.1199821060425487, 'n_estimators': 109, 'subsample': 0.8231854166140207, 'colsample_bytree': 0.6293471436239225}. Best is trial 1 with value: 0.9467048710601719.\n",
            "[I 2024-11-19 04:20:42,791] Trial 2 finished with value: 0.9444126074498568 and parameters: {'max_depth': 7, 'learning_rate': 0.060527834113890774, 'n_estimators': 274, 'subsample': 0.9135209583658989, 'colsample_bytree': 0.9630819135946896}. Best is trial 1 with value: 0.9467048710601719.\n",
            "[I 2024-11-19 04:20:58,378] Trial 3 finished with value: 0.9461318051575931 and parameters: {'max_depth': 7, 'learning_rate': 0.1406605269094241, 'n_estimators': 476, 'subsample': 0.9695123963970624, 'colsample_bytree': 0.6000567536318673}. Best is trial 1 with value: 0.9467048710601719.\n",
            "[I 2024-11-19 04:21:13,263] Trial 4 finished with value: 0.9455587392550143 and parameters: {'max_depth': 15, 'learning_rate': 0.10159597008908493, 'n_estimators': 419, 'subsample': 0.9763454336527753, 'colsample_bytree': 0.8482863670666105}. Best is trial 1 with value: 0.9467048710601719.\n",
            "[I 2024-11-19 04:21:21,715] Trial 5 finished with value: 0.9467048710601719 and parameters: {'max_depth': 3, 'learning_rate': 0.058045814059101065, 'n_estimators': 275, 'subsample': 0.7186281142182909, 'colsample_bytree': 0.8387319971551267}. Best is trial 1 with value: 0.9467048710601719.\n",
            "[I 2024-11-19 04:21:31,406] Trial 6 finished with value: 0.9432664756446991 and parameters: {'max_depth': 7, 'learning_rate': 0.2997312616371769, 'n_estimators': 397, 'subsample': 0.8405759296487744, 'colsample_bytree': 0.716242225639121}. Best is trial 1 with value: 0.9467048710601719.\n",
            "[I 2024-11-19 04:21:38,931] Trial 7 finished with value: 0.9489971346704871 and parameters: {'max_depth': 3, 'learning_rate': 0.012103501654093013, 'n_estimators': 229, 'subsample': 0.6712907425085632, 'colsample_bytree': 0.9244024368458479}. Best is trial 7 with value: 0.9489971346704871.\n",
            "[I 2024-11-19 04:21:50,258] Trial 8 finished with value: 0.9461318051575931 and parameters: {'max_depth': 9, 'learning_rate': 0.10608606670430559, 'n_estimators': 296, 'subsample': 0.6451489598399972, 'colsample_bytree': 0.9236621927757834}. Best is trial 7 with value: 0.9489971346704871.\n",
            "[I 2024-11-19 04:21:52,493] Trial 9 finished with value: 0.9512893982808023 and parameters: {'max_depth': 13, 'learning_rate': 0.019062812804156656, 'n_estimators': 65, 'subsample': 0.6520707479517559, 'colsample_bytree': 0.6756805029818673}. Best is trial 9 with value: 0.9512893982808023.\n",
            "[I 2024-11-19 04:21:54,819] Trial 10 finished with value: 0.9495702005730658 and parameters: {'max_depth': 14, 'learning_rate': 0.012257630303643404, 'n_estimators': 64, 'subsample': 0.7393852710511296, 'colsample_bytree': 0.7213732381714234}. Best is trial 9 with value: 0.9512893982808023.\n",
            "[I 2024-11-19 04:21:57,148] Trial 11 finished with value: 0.9489971346704871 and parameters: {'max_depth': 14, 'learning_rate': 0.010397067141246202, 'n_estimators': 64, 'subsample': 0.7249713508930061, 'colsample_bytree': 0.7188155460773545}. Best is trial 9 with value: 0.9512893982808023.\n",
            "[I 2024-11-19 04:22:04,893] Trial 12 finished with value: 0.9489971346704871 and parameters: {'max_depth': 12, 'learning_rate': 0.02172549879895732, 'n_estimators': 139, 'subsample': 0.604944240144697, 'colsample_bytree': 0.705760839513326}. Best is trial 9 with value: 0.9512893982808023.\n",
            "[I 2024-11-19 04:22:10,765] Trial 13 finished with value: 0.9472779369627508 and parameters: {'max_depth': 12, 'learning_rate': 0.02106231161788106, 'n_estimators': 170, 'subsample': 0.7398514569314725, 'colsample_bytree': 0.665003389073523}. Best is trial 9 with value: 0.9512893982808023.\n",
            "[I 2024-11-19 04:22:12,579] Trial 14 finished with value: 0.9478510028653295 and parameters: {'max_depth': 12, 'learning_rate': 0.01997218226183984, 'n_estimators': 52, 'subsample': 0.75488229615274, 'colsample_bytree': 0.7719174821045175}. Best is trial 9 with value: 0.9512893982808023.\n",
            "[I 2024-11-19 04:22:23,064] Trial 15 finished with value: 0.9495702005730658 and parameters: {'max_depth': 14, 'learning_rate': 0.03141452459848606, 'n_estimators': 189, 'subsample': 0.6679053443527995, 'colsample_bytree': 0.7636790321319391}. Best is trial 9 with value: 0.9512893982808023.\n",
            "[I 2024-11-19 04:22:26,517] Trial 16 finished with value: 0.9495702005730658 and parameters: {'max_depth': 10, 'learning_rate': 0.014082802474041286, 'n_estimators': 104, 'subsample': 0.8752972013825984, 'colsample_bytree': 0.6696429964780597}. Best is trial 9 with value: 0.9512893982808023.\n",
            "[I 2024-11-19 04:22:32,107] Trial 17 finished with value: 0.9501432664756447 and parameters: {'max_depth': 10, 'learning_rate': 0.01572344979525067, 'n_estimators': 101, 'subsample': 0.6055353427119108, 'colsample_bytree': 0.8242719065688245}. Best is trial 9 with value: 0.9512893982808023.\n",
            "[I 2024-11-19 04:22:38,542] Trial 18 finished with value: 0.9478510028653295 and parameters: {'max_depth': 10, 'learning_rate': 0.031508045557390466, 'n_estimators': 198, 'subsample': 0.610810170643242, 'colsample_bytree': 0.8312838907492767}. Best is trial 9 with value: 0.9512893982808023.\n",
            "[I 2024-11-19 04:22:42,117] Trial 19 finished with value: 0.9484240687679083 and parameters: {'max_depth': 11, 'learning_rate': 0.01715943421715531, 'n_estimators': 124, 'subsample': 0.6885970520626279, 'colsample_bytree': 0.8815028121935643}. Best is trial 9 with value: 0.9512893982808023.\n",
            "[I 2024-11-19 04:22:55,599] Trial 20 finished with value: 0.9467048710601719 and parameters: {'max_depth': 9, 'learning_rate': 0.03033258455634547, 'n_estimators': 356, 'subsample': 0.6376921969690366, 'colsample_bytree': 0.7850299728461496}. Best is trial 9 with value: 0.9512893982808023.\n",
            "[I 2024-11-19 04:23:01,622] Trial 21 finished with value: 0.9507163323782235 and parameters: {'max_depth': 14, 'learning_rate': 0.014442307201925781, 'n_estimators': 81, 'subsample': 0.7671237010570855, 'colsample_bytree': 0.7463326595616973}. Best is trial 9 with value: 0.9512893982808023.\n",
            "[I 2024-11-19 04:23:04,609] Trial 22 finished with value: 0.9495702005730658 and parameters: {'max_depth': 13, 'learning_rate': 0.02396148698053197, 'n_estimators': 87, 'subsample': 0.7776692338916329, 'colsample_bytree': 0.7508659746145129}. Best is trial 9 with value: 0.9512893982808023.\n",
            "[I 2024-11-19 04:23:09,750] Trial 23 finished with value: 0.9484240687679083 and parameters: {'max_depth': 15, 'learning_rate': 0.015779655275512325, 'n_estimators': 155, 'subsample': 0.6875456570762991, 'colsample_bytree': 0.812600308273548}. Best is trial 9 with value: 0.9512893982808023.\n",
            "[I 2024-11-19 04:23:21,045] Trial 24 finished with value: 0.9507163323782235 and parameters: {'max_depth': 13, 'learning_rate': 0.010595385402271217, 'n_estimators': 229, 'subsample': 0.632475938331347, 'colsample_bytree': 0.6697424473029234}. Best is trial 9 with value: 0.9512893982808023.\n",
            "[I 2024-11-19 04:23:32,498] Trial 25 finished with value: 0.9478510028653295 and parameters: {'max_depth': 13, 'learning_rate': 0.01062529011319697, 'n_estimators': 225, 'subsample': 0.7762410427862427, 'colsample_bytree': 0.6750642353288798}. Best is trial 9 with value: 0.9512893982808023.\n",
            "[I 2024-11-19 04:23:44,221] Trial 26 finished with value: 0.9495702005730658 and parameters: {'max_depth': 13, 'learning_rate': 0.01003508730650916, 'n_estimators': 237, 'subsample': 0.6412620574472184, 'colsample_bytree': 0.6387588621499758}. Best is trial 9 with value: 0.9512893982808023.\n",
            "[I 2024-11-19 04:23:58,376] Trial 27 finished with value: 0.9432664756446991 and parameters: {'max_depth': 15, 'learning_rate': 0.04036347306937725, 'n_estimators': 337, 'subsample': 0.8624984513316851, 'colsample_bytree': 0.6919441820039562}. Best is trial 9 with value: 0.9512893982808023.\n",
            "[I 2024-11-19 04:24:03,034] Trial 28 finished with value: 0.9495702005730658 and parameters: {'max_depth': 11, 'learning_rate': 0.014046836386935579, 'n_estimators': 145, 'subsample': 0.7043390163024343, 'colsample_bytree': 0.7423483874821691}. Best is trial 9 with value: 0.9512893982808023.\n",
            "[I 2024-11-19 04:24:12,914] Trial 29 finished with value: 0.9484240687679083 and parameters: {'max_depth': 14, 'learning_rate': 0.025866651339638707, 'n_estimators': 182, 'subsample': 0.7990521766008161, 'colsample_bytree': 0.637454985737781}. Best is trial 9 with value: 0.9512893982808023.\n",
            "[I 2024-11-19 04:24:15,870] Trial 30 finished with value: 0.9489971346704871 and parameters: {'max_depth': 11, 'learning_rate': 0.0435281168179089, 'n_estimators': 83, 'subsample': 0.9306739446008446, 'colsample_bytree': 0.6134739738621932}. Best is trial 9 with value: 0.9512893982808023.\n",
            "[I 2024-11-19 04:24:26,732] Trial 31 finished with value: 0.9495702005730658 and parameters: {'max_depth': 9, 'learning_rate': 0.01798533233374865, 'n_estimators': 104, 'subsample': 0.6229332146642071, 'colsample_bytree': 0.80142533106037}. Best is trial 9 with value: 0.9512893982808023.\n",
            "[I 2024-11-19 04:24:31,023] Trial 32 finished with value: 0.9489971346704871 and parameters: {'max_depth': 13, 'learning_rate': 0.014560752246547296, 'n_estimators': 123, 'subsample': 0.6629467802999935, 'colsample_bytree': 0.6540517624710028}. Best is trial 9 with value: 0.9512893982808023.\n",
            "[I 2024-11-19 04:24:33,031] Trial 33 finished with value: 0.9512893982808023 and parameters: {'max_depth': 5, 'learning_rate': 0.01295615111766793, 'n_estimators': 87, 'subsample': 0.6059766285258804, 'colsample_bytree': 0.6911152105915319}. Best is trial 9 with value: 0.9512893982808023.\n",
            "[I 2024-11-19 04:24:34,824] Trial 34 finished with value: 0.9495702005730658 and parameters: {'max_depth': 6, 'learning_rate': 0.012065248621930825, 'n_estimators': 75, 'subsample': 0.6390783995846245, 'colsample_bytree': 0.7384347269092107}. Best is trial 9 with value: 0.9512893982808023.\n",
            "[I 2024-11-19 04:24:49,231] Trial 35 finished with value: 0.9426934097421203 and parameters: {'max_depth': 4, 'learning_rate': 0.07766287743280662, 'n_estimators': 500, 'subsample': 0.6864886369119969, 'colsample_bytree': 0.6907236829333598}. Best is trial 9 with value: 0.9512893982808023.\n",
            "[I 2024-11-19 04:24:57,972] Trial 36 finished with value: 0.9507163323782235 and parameters: {'max_depth': 5, 'learning_rate': 0.02699407835430259, 'n_estimators': 253, 'subsample': 0.6224768726596595, 'colsample_bytree': 0.6229177251660776}. Best is trial 9 with value: 0.9512893982808023.\n",
            "[I 2024-11-19 04:24:59,525] Trial 37 finished with value: 0.9438395415472779 and parameters: {'max_depth': 8, 'learning_rate': 0.22935174680543768, 'n_estimators': 51, 'subsample': 0.6598025240322648, 'colsample_bytree': 0.6902601589420222}. Best is trial 9 with value: 0.9512893982808023.\n",
            "[I 2024-11-19 04:25:05,846] Trial 38 finished with value: 0.9495702005730658 and parameters: {'max_depth': 6, 'learning_rate': 0.01869801431173604, 'n_estimators': 210, 'subsample': 0.8122952300173976, 'colsample_bytree': 0.6497268968034593}. Best is trial 9 with value: 0.9512893982808023.\n",
            "[I 2024-11-19 04:25:23,984] Trial 39 finished with value: 0.9444126074498568 and parameters: {'max_depth': 15, 'learning_rate': 0.041078231783759016, 'n_estimators': 420, 'subsample': 0.7103930847235297, 'colsample_bytree': 0.7243019231563471}. Best is trial 9 with value: 0.9512893982808023.\n",
            "[I 2024-11-19 04:25:37,848] Trial 40 finished with value: 0.9484240687679083 and parameters: {'max_depth': 12, 'learning_rate': 0.012483477239773007, 'n_estimators': 290, 'subsample': 0.9401946678408312, 'colsample_bytree': 0.6097063966728319}. Best is trial 9 with value: 0.9512893982808023.\n",
            "[I 2024-11-19 04:25:43,594] Trial 41 finished with value: 0.9507163323782235 and parameters: {'max_depth': 5, 'learning_rate': 0.026683312686566325, 'n_estimators': 253, 'subsample': 0.6244267879263887, 'colsample_bytree': 0.6245801381397575}. Best is trial 9 with value: 0.9512893982808023.\n",
            "[I 2024-11-19 04:25:53,840] Trial 42 finished with value: 0.9495702005730658 and parameters: {'max_depth': 5, 'learning_rate': 0.013316627521826314, 'n_estimators': 321, 'subsample': 0.6261505304665738, 'colsample_bytree': 0.676785937821992}. Best is trial 9 with value: 0.9512893982808023.\n",
            "[I 2024-11-19 04:25:59,134] Trial 43 finished with value: 0.9501432664756447 and parameters: {'max_depth': 4, 'learning_rate': 0.017251556809683297, 'n_estimators': 256, 'subsample': 0.6545372470701614, 'colsample_bytree': 0.7033421783704721}. Best is trial 9 with value: 0.9512893982808023.\n",
            "[I 2024-11-19 04:26:05,516] Trial 44 finished with value: 0.9495702005730658 and parameters: {'max_depth': 6, 'learning_rate': 0.022249843178264256, 'n_estimators': 126, 'subsample': 0.6062115424457732, 'colsample_bytree': 0.6239594038788647}. Best is trial 9 with value: 0.9512893982808023.\n",
            "[I 2024-11-19 04:26:07,851] Trial 45 finished with value: 0.9507163323782235 and parameters: {'max_depth': 8, 'learning_rate': 0.011639011354711523, 'n_estimators': 82, 'subsample': 0.6253833814827569, 'colsample_bytree': 0.6481087789666511}. Best is trial 9 with value: 0.9512893982808023.\n",
            "[I 2024-11-19 04:26:11,451] Trial 46 finished with value: 0.9478510028653295 and parameters: {'max_depth': 4, 'learning_rate': 0.0489800372376001, 'n_estimators': 174, 'subsample': 0.9920294586823837, 'colsample_bytree': 0.6666227975707404}. Best is trial 9 with value: 0.9512893982808023.\n",
            "[I 2024-11-19 04:26:20,460] Trial 47 finished with value: 0.9489971346704871 and parameters: {'max_depth': 3, 'learning_rate': 0.019102371817061804, 'n_estimators': 307, 'subsample': 0.6853860110210459, 'colsample_bytree': 0.9850714371011836}. Best is trial 9 with value: 0.9512893982808023.\n",
            "[I 2024-11-19 04:26:34,601] Trial 48 finished with value: 0.9455587392550143 and parameters: {'max_depth': 14, 'learning_rate': 0.06982243980984919, 'n_estimators': 373, 'subsample': 0.600548476467724, 'colsample_bytree': 0.7261648821249189}. Best is trial 9 with value: 0.9512893982808023.\n",
            "[I 2024-11-19 04:26:41,511] Trial 49 finished with value: 0.9472779369627508 and parameters: {'max_depth': 7, 'learning_rate': 0.028714211739475512, 'n_estimators': 263, 'subsample': 0.843446457169722, 'colsample_bytree': 0.7048429613990015}. Best is trial 9 with value: 0.9512893982808023.\n"
          ]
        },
        {
          "output_type": "stream",
          "name": "stdout",
          "text": [
            "Best Parameters from Optuna: {'max_depth': 13, 'learning_rate': 0.019062812804156656, 'n_estimators': 65, 'subsample': 0.6520707479517559, 'colsample_bytree': 0.6756805029818673}\n"
          ]
        }
      ]
    },
    {
      "cell_type": "code",
      "source": [
        "best_model = XGBClassifier(**best_params)\n",
        "\n",
        "\n",
        "best_model.fit(X_train_scaled, y_train)\n",
        "\n",
        "y_pred = best_model.predict(X_test_scaled)\n",
        "\n",
        "\n",
        "accuracy = accuracy_score(y_test, y_pred)\n",
        "print(f\"Accuracy of the optimized model: {accuracy * 100:.2f}%\")"
      ],
      "metadata": {
        "colab": {
          "base_uri": "https://localhost:8080/"
        },
        "id": "6BxiNp0dphog",
        "outputId": "428e67ba-369a-45be-fe76-298b81c61803"
      },
      "execution_count": 14,
      "outputs": [
        {
          "output_type": "stream",
          "name": "stdout",
          "text": [
            "Accuracy of the optimized model: 95.13%\n"
          ]
        }
      ]
    }
  ]
}